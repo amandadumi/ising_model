{
 "cells": [
  {
   "cell_type": "markdown",
   "metadata": {},
   "source": [
    "In this lab we will look at modeling an Ising system with Monte Carlo.\n",
    "Most of the Python will be explained, but if you wanted practice, it can be found [here](https://www.learnpython.org/en/Basic_String_Operations). From the short turotials listed under Python basics, you are to be familiar with:\n",
    "- Variables & Types\n",
    "- Lists\n",
    "- Basic Operators\n",
    "- Conditions\n",
    "- Loops\n",
    "- Functions\n",
    "- Classes & objects."
   ]
  },
  {
   "cell_type": "markdown",
   "metadata": {},
   "source": [
    "# Ising Model \n",
    "\n",
    "The Ising model is a lattice of $k$ interacting sites. Each site has a spin $\\sigma_k$ which can have a value of +1 or -1. The spins are allowed to interact with their nearest-neighbor spins. The Hamiltonian for the system is given by:\n",
    "\n",
    "$$\n",
    "H(\\sigma)=-\\sum_{\\langle i j\\rangle} J_{i j} \\sigma_{i} \\sigma_{j}\n",
    "$$\n",
    "\n",
    "where $\\langle i j\\rangle$ indicate a sum over only nearest neighbors.\n",
    "The interaction between spins is captured in $J$.\n",
    "(If $J$, is positive the system will behave ferromagnetically while a negative $J$ favors antiferromagnetic interactions. (maybe this sentence will be better in the conclusions?))\n",
    "\n",
    "We will start by introducing some code for this model. "
   ]
  },
  {
   "cell_type": "code",
   "execution_count": 10,
   "metadata": {},
   "outputs": [],
   "source": [
    "## think about umbrella sampling between points\n",
    "## 1-D\n",
    "## 2-D phase transitions. Given equations, but not derived in class. Expectd 1/2, but actual answer is 1/8th"
   ]
  },
  {
   "cell_type": "markdown",
   "metadata": {},
   "source": [
    "To begin, we provide a python class for you to add your functions to. This will help keep variables organized. Initial functions have been provided to initialize your model, print the data, and plot the model."
   ]
  },
  {
   "cell_type": "code",
   "execution_count": 1,
   "metadata": {},
   "outputs": [],
   "source": [
    "import numpy as np\n",
    "import matplotlib.pyplot as plt"
   ]
  },
  {
   "cell_type": "code",
   "execution_count": 2,
   "metadata": {},
   "outputs": [],
   "source": [
    "class IsingModel:\n",
    "    \"\"\"\n",
    "    Store attributes of an Ising lattice model\n",
    "    Provide abstractions to conveniently manipulate lattice for simulations\n",
    "    \"\"\"\n",
    "    def __init__(self, M, N, J, h=0):\n",
    "        \"\"\"\n",
    "        Initialization.\n",
    "\n",
    "        parameters:\n",
    "            lattice is M by N sites\n",
    "            M: size of first dimension\n",
    "            N: size of second dimension\n",
    "            J: interaction between neighbors (units: kT)\n",
    "            h: background (external) field (units: kT)\n",
    "        \"\"\"\n",
    "        # store parameters for convenience:\n",
    "        #   energetic parameters\n",
    "        self.J = J\n",
    "        self.h = h\n",
    "\n",
    "        #   size of lattice\n",
    "        self.M = M\n",
    "        self.N = N\n",
    "\n",
    "        # We will store the lattice as an M by N array of -1 or 1\n",
    "        # initialize each site as -1 or 1 with equal probability\n",
    "\n",
    "        # The np.random.randint initializes random ints \n",
    "        # but does not include the high value so this initializes a \n",
    "        # matrix of -1 and 0's \n",
    "        lattice_state = np.random.randint(-1, high=1, size=(M, N))\n",
    "        # then we change all the zeros to ones so we have a \n",
    "        # matrix of -1 and 1\n",
    "        lattice_state[lattice_state == 0] = 1\n",
    "        self.lattice_state = lattice_state\n",
    "    \n",
    "    def print_params(self):\n",
    "        \"\"\"\n",
    "        Print lattice attributes\n",
    "        \"\"\"\n",
    "        print(\"\\t{:d} by {:d} lattice\".format((self.M, self.N)))\n",
    "        print(\"\\tJ = {: 8.6f}   (positive means a favorable interaction)\".format(self.J))\n",
    "        print(\"\\th = {: 8.6f}   (external field aligned with spins)\".format(self.h))\n",
    "\n",
    "    def plot_lattice(self):\n",
    "        \"\"\"\n",
    "        Plot lattice configuration\n",
    "        \"\"\"\n",
    "        plt.figure()\n",
    "\n",
    "        imgplot = plt.imshow(self.lattice_state)\n",
    "        imgplot.set_interpolation('none')\n",
    "\n",
    "        plt.xticks(range(self.N))\n",
    "        plt.yticks(range(self.M))\n",
    "\n",
    "        for i in range(self.N+1):\n",
    "            plt.plot([i-0.5, i-0.5], [0-0.5, self.M-0.5], color='black')\n",
    "        for j in range(self.M+1):\n",
    "            plt.plot([0-0.5, self.N-0.5], [j-0.5, j-0.5], color='black')\n",
    "\n",
    "        plt.show()"
   ]
  },
  {
   "cell_type": "code",
   "execution_count": 3,
   "metadata": {},
   "outputs": [],
   "source": [
    " class IsingModel(IsingModel):\n",
    "     def flip_spin(self, i, j):\n",
    "        \"\"\"\n",
    "        Flip spin (i, j)\n",
    "        i.e. -1 ---> 1\n",
    "              1 ---> -1\n",
    "        \"\"\"\n",
    "        self.lattice_state[i, j] = - self.lattice_state[i, j]"
   ]
  },
  {
   "cell_type": "code",
   "execution_count": 4,
   "metadata": {},
   "outputs": [
    {
     "data": {
      "image/png": "[encoded data removed]",
      "text/plain": [
       "<Figure size 432x288 with 1 Axes>"
      ]
     },
     "metadata": {
      "needs_background": "light"
     },
     "output_type": "display_data"
    }
   ],
   "source": [
    "## Add simple test here to make sure they are interacting with class correctly. \n",
    "a = IsingModel(3, 3, 1.0, 0.0)\n",
    "a.plot_lattice()"
   ]
  },
  {
   "cell_type": "code",
   "execution_count": null,
   "metadata": {},
   "outputs": [],
   "source": [
    "# Describe periodic boundary conditions \n",
    "\n",
    "# expression for energy of a given lattice state\n",
    "\n",
    "# Example on how to access the python object lattice_state"
   ]
  },
  {
   "cell_type": "code",
   "execution_count": 5,
   "metadata": {},
   "outputs": [],
   "source": [
    "  class IsingModel(IsingModel):\n",
    "    def calculate_energy_of_sites(self, i, j):\n",
    "        \"\"\"\n",
    "        Calculate energy of spin (i, j)\n",
    "        \n",
    "        Periodic boundary conditions implemented\n",
    "        \"\"\"\n",
    "        spin_here = self.lattice_state[i, j]  # value of spin here\n",
    "        \n",
    "        # value of spin above, below, left, and right of spin (i, j)\n",
    "        # for each, if on boundary, we wrap around to the other side\n",
    "        # of the lattice for periodic boundary conditions\n",
    "        if j == 0:\n",
    "            spin_above = self.lattice_state[i, self.N - 1]\n",
    "        else:\n",
    "            spin_above = self.lattice_state[i, j - 1]\n",
    "        \n",
    "        if j == self.N - 1:\n",
    "            spin_below = self.lattice_state[i, 0]\n",
    "        else:\n",
    "            spin_below = self.lattice_state[i, j + 1]\n",
    "            \n",
    "        if i == self.M - 1:\n",
    "            spin_right = self.lattice_state[0, j]\n",
    "        else:\n",
    "            spin_right = self.lattice_state[i + 1, j]\n",
    "        \n",
    "        if i == 0:\n",
    "            spin_left = self.lattice_state[self.M - 1, j]\n",
    "        else:\n",
    "            spin_left = self.lattice_state[i - 1, j]\n",
    "        \n",
    "        return - self.h * spin_here - self.J * spin_here *\\\n",
    "            (spin_above + spin_below + spin_left + spin_right)"
   ]
  },
  {
   "cell_type": "code",
   "execution_count": 6,
   "metadata": {},
   "outputs": [],
   "source": [
    "## add test here for correct behavior"
   ]
  },
  {
   "cell_type": "code",
   "execution_count": null,
   "metadata": {},
   "outputs": [],
   "source": [
    "# desribe what we want from them here in the next code block"
   ]
  },
  {
   "cell_type": "code",
   "execution_count": 7,
   "metadata": {},
   "outputs": [],
   "source": [
    "  class IsingModel(IsingModel):\n",
    "    def calculate_lattice_energy_per_spin(self):\n",
    "        \"\"\"\n",
    "        Calculate energy of lattice normalized by the number of spins\n",
    "        \"\"\"\n",
    "        E = 0.0\n",
    "        for i in range(self.M):\n",
    "            for j in range(self.N):\n",
    "                E += self.calculate_energy_of_spin(i, j)\n",
    "        # factor of two for overcounting neighboring interactions.\n",
    "        # but then need to add back -1/2 h \\sum s_i \n",
    "        return E / 2.0 / (self.M * self.N) -\\\n",
    "            self.h * np.sum(self.lattice_state) / 2.0 / (self.M * self.N)"
   ]
  },
  {
   "cell_type": "code",
   "execution_count": null,
   "metadata": {},
   "outputs": [],
   "source": [
    "# test code here"
   ]
  },
  {
   "cell_type": "markdown",
   "metadata": {},
   "source": [
    "# Monte Carlo Simulations\n",
    "\n",
    "Theoretically, we have made a very simple model for describing interacting systems. \n",
    "Additionally, we can now start to use this model for predicting observables. \n",
    "For example, for the expectation value of the energy of an $M*N$ lattice, the expectation value would be\n",
    "\n",
    "$$\n",
    "\\langle E\\rangle=\\sum_{\\alpha} E(\\alpha) P(\\alpha)\n",
    "$$\n",
    "\n",
    "where $E(\\alpha)$ is the energy of a fixed state $\\alpha$, and  $P(\\alpha)$ is the probability of being in that fixed state.\n",
    "However, the number of fixed states grows as $2^{(N*M)}$ where $N*M$ is the total number of lattice points.\n",
    "This quickly becomes impractical as the lattice size grows.\n",
    "\n",
    "To deal with this, we use Monte Carlo sampling to sample states $\\alpha$ with probability $P(\\alpha)$."
   ]
  },
  {
   "cell_type": "code",
   "execution_count": null,
   "metadata": {},
   "outputs": [],
   "source": [
    "# Initialize class\n",
    "class Calculation:\n",
    "    def __init__(self, ising_model, kT=1, num_equil_sweeps=1000, num_sweeps=1000):\n",
    "        \"\"\"\n",
    "        Initializing\n",
    "        \"\"\"\n",
    "        self.num_equil_sweeps = num_equil_sweeps\n",
    "        self.num_sweeps = num_sweeps\n",
    "        self.kT = kT\n",
    "        self.ising_model = ising_model\n",
    "        self.energies_list = []\n",
    "        self.total_spin_list = []"
   ]
  },
  {
   "cell_type": "code",
   "execution_count": null,
   "metadata": {},
   "outputs": [],
   "source": [
    "  class Calculation(Calculation):\n"
   ]
  },
  {
   "cell_type": "markdown",
   "metadata": {},
   "source": [
    "# Applications of the class"
   ]
  },
  {
   "cell_type": "markdown",
   "metadata": {},
   "source": [
    "1) Run an Ising model simulation with the following parameters:\n",
    "\n",
    "Again, we initialize the python class as: `our_model = IsingModel(n, m, J, h)`\n",
    "\n",
    "- finite size effects: studying two different lattice sizes\n",
    "    - what differences do you notice at 10x10 and 30x30\n",
    "- finding the transition temperature\n",
    "    - distributions of spins above and below\n",
    "- Standard deviation changes around phase transitions\n",
    "- with and without magnetic field"
   ]
  },
  {
   "cell_type": "markdown",
   "metadata": {},
   "source": [
    "#References:\n",
    "\n",
    "code: \n",
    "    \n",
    "theory: https://arxiv.org/pdf/0803.0217.pdf"
   ]
  }
 ],
 "metadata": {
  "kernelspec": {
   "display_name": "Python 3",
   "language": "python",
   "name": "python3"
  },
  "language_info": {
   "codemirror_mode": {
    "name": "ipython",
    "version": 3
   },
   "file_extension": ".py",
   "mimetype": "text/x-python",
   "name": "python",
   "nbconvert_exporter": "python",
   "pygments_lexer": "ipython3",
   "version": "3.8.1"
  }
 },
 "nbformat": 4,
 "nbformat_minor": 4
}
