{
 "cells": [
  {
   "cell_type": "markdown",
   "metadata": {},
   "source": [
    "In this lab we will look at modeling an Ising system with Monte Carlo.\n",
    "Most of the Python will be explained, but if you wanted practice, it can be found [here](https://www.learnpython.org/en/Basic_String_Operations). From the short tutorials listed under Python basics, you are to be familiar with:\n",
    "- Variables & Types\n",
    "- Lists\n",
    "- Basic Operators\n",
    "- Conditions\n",
    "- Loops\n",
    "- Functions\n",
    "- Classes & objects."
   ]
  },
  {
   "cell_type": "markdown",
   "metadata": {},
   "source": [
    "# Ising Model \n",
    "\n",
    "The Ising model is a lattice of $k$ interacting sites. Each site has a spin $\\sigma_k$ which can have a value of +1 or -1. The spins are allowed to interact with their nearest-neighbor spins. The Hamiltonian for the system is given by:\n",
    "\n",
    "$$\n",
    "H(\\sigma)=-\\sum_{\\langle i j\\rangle} J_{i j} \\sigma_{i} \\sigma_{j}-\\sum_{j} h_{j} \\sigma_{j}\n",
    "$$\n",
    "\n",
    "where $\\langle i j\\rangle$ indicate a sum over only nearest neighbors. The interaction between spins is captured in $J$. If $J$ is positive, the system will behave ferromagnetically, and a negative $J$ favors antiferromagnetic interactions. A magnetic field aligned with the spins is represented by $h_j$.\n",
    "\n",
    "We will start by introducing some code for this model. "
   ]
  },
  {
   "cell_type": "markdown",
   "metadata": {},
   "source": [
    "To begin, we need to import the Python modules we will need. If you're not familiar with each of these, here is an overview: \n",
    "- `numpy` allows us to perform the necessary math\n",
    "- `matplotlib` will allows us to visualize our results\n",
    "- `pandas` will help up tabulate data cleanly\n",
    "- `time` will allow us to time the simulation\n",
    "- `pyblock` handles reblocking, which will be discussed later in the notebook"
   ]
  },
  {
   "cell_type": "markdown",
   "metadata": {},
   "source": [
    "The cell below will ensure you have all necessary packages installed"
   ]
  },
  {
   "cell_type": "code",
   "execution_count": 2,
   "metadata": {},
   "outputs": [
    {
     "name": "stdout",
     "output_type": "stream",
     "text": [
      "Defaulting to user installation because normal site-packages is not writeable\n",
      "Requirement already satisfied: numpy in /usr/lib/python3.8/site-packages (1.18.1)\n",
      "Requirement already satisfied: matplotlib in /home/shiv/.local/lib/python3.8/site-packages (3.1.2)\n",
      "Requirement already satisfied: pyblock in /home/shiv/.local/lib/python3.8/site-packages (0.4)\n",
      "Requirement already satisfied: pandas in /home/shiv/.local/lib/python3.8/site-packages (0.25.3)\n",
      "Requirement already satisfied: pyparsing!=2.0.4,!=2.1.2,!=2.1.6,>=2.0.1 in /usr/lib/python3.8/site-packages (from matplotlib) (2.4.6)\n",
      "Requirement already satisfied: cycler>=0.10 in /home/shiv/.local/lib/python3.8/site-packages (from matplotlib) (0.10.0)\n",
      "Requirement already satisfied: python-dateutil>=2.1 in /usr/lib/python3.8/site-packages (from matplotlib) (2.8.1)\n",
      "Requirement already satisfied: kiwisolver>=1.0.1 in /home/shiv/.local/lib/python3.8/site-packages (from matplotlib) (1.1.0)\n",
      "Requirement already satisfied: pytz>=2017.2 in /usr/lib/python3.8/site-packages (from pandas) (2019.3)\n",
      "Requirement already satisfied: six in /home/shiv/.local/lib/python3.8/site-packages (from cycler>=0.10->matplotlib) (1.14.0)\n",
      "Requirement already satisfied: setuptools in /home/shiv/.local/lib/python3.8/site-packages (from kiwisolver>=1.0.1->matplotlib) (45.1.0)\n",
      "\u001b[33mWARNING: You are using pip version 20.0.1; however, version 20.0.2 is available.\n",
      "You should consider upgrading via the '/usr/bin/python -m pip install --upgrade pip' command.\u001b[0m\n",
      "Note: you may need to restart the kernel to use updated packages.\n"
     ]
    }
   ],
   "source": [
    "%pip install numpy matplotlib pyblock pandas"
   ]
  },
  {
   "cell_type": "code",
   "execution_count": 3,
   "metadata": {},
   "outputs": [],
   "source": [
    "import numpy as np\n",
    "import matplotlib.pyplot as plt\n",
    "import pyblock\n",
    "import pandas as pd\n",
    "import time"
   ]
  },
  {
   "cell_type": "markdown",
   "metadata": {},
   "source": [
    "We'll also import some helper utilities that we wrote to make things easier for you"
   ]
  },
  {
   "cell_type": "code",
   "execution_count": 4,
   "metadata": {},
   "outputs": [],
   "source": [
    "import ising_utils as iu"
   ]
  },
  {
   "cell_type": "markdown",
   "metadata": {},
   "source": [
    "# Initializing the class\n",
    "The Ising model class has been started for you. \n",
    "We have given you two functions:\n",
    "\n",
    "    1) initialize the model parameters\n",
    "    2) print the parameters\n",
    "The functions are described within the functions as comments.\n",
    "Multiline will surrounded by a set of triple quotation marks (`''' comment '''`), while single line comments are indicated by `# comment`.\n",
    "\n",
    "If you are not familiar with Python classes, we suggest you review them with the source given above. The data for the model will be kept entirely in the class and the function we will write will be written to manipulate that data."
   ]
  },
  {
   "cell_type": "code",
   "execution_count": 12,
   "metadata": {},
   "outputs": [],
   "source": [
    "class IsingModel:\n",
    "    \"\"\"\n",
    "    Store attributes of an Ising lattice model\n",
    "    Provide abstractions to conveniently manipulate lattice for simulations\n",
    "    \"\"\"\n",
    "\n",
    "    def __init__(self, M, N, J, h=0):\n",
    "        \"\"\"\n",
    "        Initialization of the model.\n",
    "\n",
    "        parameters:\n",
    "            lattice is M by N sites\n",
    "            M: size of first dimension\n",
    "            N: size of second dimension\n",
    "            J: interaction between neighbors (units: kT)\n",
    "            h: background (external) field (units: kT)\n",
    "        \"\"\"\n",
    "        # store parameters for convenience:\n",
    "        # interaction parameters\n",
    "        self.J = J\n",
    "        self.h = h\n",
    "\n",
    "        #  size of lattice\n",
    "        self.M = M\n",
    "        self.N = N\n",
    "\n",
    "        # We will store the lattice of spins as an M by N array of -1 or 1 to indicate what we refer to as down and up.\n",
    "        # initialize each site as -1 or 1 with equal probability\n",
    "\n",
    "        # The np.random.randint initializes random ints\n",
    "        # but does not include the high value so this initializes a\n",
    "        # matrix of -1 and 0's\n",
    "        lattice_state = np.random.randint(-1, high=1, size=(M, N))\n",
    "        # then we change all the zeros to ones so we have a\n",
    "        # matrix of -1 and 1\n",
    "        lattice_state[lattice_state == 0] = 1\n",
    "        self.lattice_state = lattice_state\n",
    "\n",
    "    def print_params(self):\n",
    "        \"\"\"\n",
    "        Print lattice attributes\n",
    "        \"\"\"\n",
    "        print(\"\\t{:d} by {:d} lattice\".format(self.M, self.N))\n",
    "        print(\n",
    "            \"\\tJ = {: 8.6f}   (positive means a favorable interaction)\".format(self.J)\n",
    "        )\n",
    "        print(\"\\th = {: 8.6f}   (external field aligned with spins)\".format(self.h))"
   ]
  },
  {
   "cell_type": "code",
   "execution_count": 13,
   "metadata": {},
   "outputs": [
    {
     "data": {
      "image/png": "[encoded data removed]",
      "text/plain": [
       "<Figure size 432x288 with 1 Axes>"
      ]
     },
     "metadata": {
      "needs_background": "light"
     },
     "output_type": "display_data"
    }
   ],
   "source": [
    "# Initializing a model of 3x3 spins, with J = 1 and h = 0\n",
    "a = IsingModel(3, 3, 1.0, 0.0)\n",
    "# visualize the lattice\n",
    "iu.plot_lattice(a)"
   ]
  },
  {
   "cell_type": "markdown",
   "metadata": {},
   "source": [
    "## Question 1:\n",
    "as a test initialize your own model of dimensions of  5 by 8. Set J = 2 and h = 1"
   ]
  },
  {
   "cell_type": "code",
   "execution_count": 14,
   "metadata": {},
   "outputs": [
    {
     "name": "stdout",
     "output_type": "stream",
     "text": [
      "\t5 by 8 lattice\n",
      "\tJ =  2.000000   (positive means a favorable interaction)\n",
      "\th =  3.000000   (external field aligned with spins)\n",
      "[[-1  1  1  1  1  1  1  1]\n",
      " [ 1  1  1 -1 -1  1 -1 -1]\n",
      " [ 1  1 -1  1 -1 -1 -1  1]\n",
      " [ 1 -1  1 -1 -1  1  1 -1]\n",
      " [ 1  1  1 -1  1  1  1  1]]\n"
     ]
    }
   ],
   "source": [
    "# place code to initialize here\n",
    "b = IsingModel(5, 8, 2.0, 3.0)\n",
    "# we will test code here\n",
    "assert b.M == 5\n",
    "assert b.N == 8\n",
    "assert b.J == 2\n",
    "assert b.h == 3\n",
    "b.print_params()\n",
    "\n",
    "## TODO: some test to call fo this function would be nice?\n",
    "print(b.lattice_state)"
   ]
  },
  {
   "cell_type": "markdown",
   "metadata": {},
   "source": [
    "## Coding functions for the model\n",
    "Next, you will be coding your first function for the model. \n",
    "\n",
    "The functions we will need to create are: \n",
    "- the ability to flip a specific spin within the lattice\n",
    "- the ability to go through each lattice site to calculate the energy of the lattice.\n",
    "- a function to calculate the energy per site.\n",
    "\n",
    "\n",
    "\n",
    "The way we will add functions to our class is to declare a class of the same name as the one we started before:\n",
    "\n",
    "```python\n",
    "class IsingModel(IsingModel):\n",
    "```\n",
    "\n",
    "then we can define a member function of the class to do whatever we want.\n",
    "Remember, the first argument of a function within a class is the argument `self`.\n",
    "An example:\n",
    "\n",
    "```python\n",
    " def function_name(self)\n",
    " ```\n",
    " \n",
    " \n",
    " We will first start with the function to flip (i.e. at a specific site in the lattice, $ i, j$, the spin will flip and that lattice site will be the negative of itself.)\n"
   ]
  },
  {
   "cell_type": "code",
   "execution_count": 15,
   "metadata": {},
   "outputs": [],
   "source": [
    "class IsingModel(IsingModel):\n",
    "    def flip_spin(self, i, j):\n",
    "        \"\"\"\n",
    "        Flip spin (i, j)\n",
    "        i.e. -1 ---> 1\n",
    "              1 ---> -1\n",
    "        \"\"\"\n",
    "        self.lattice_state[i, j] = -self.lattice_state[i, j]"
   ]
  },
  {
   "cell_type": "markdown",
   "metadata": {},
   "source": [
    "The next function we want to write is the function to estimate the energy of the entire lattice.\n",
    "One thing that will affect our \n",
    "\n",
    "# Describe periodic boundary conditions \n",
    "\n",
    "# expression for energy of a given lattice state\n",
    "\n",
    "# Example on how to access the python object lattice_state"
   ]
  },
  {
   "cell_type": "code",
   "execution_count": 16,
   "metadata": {},
   "outputs": [],
   "source": [
    "class IsingModel(IsingModel):\n",
    "    def calculate_energy_of_site(self, i, j):\n",
    "        \"\"\"\n",
    "        Calculate energy of spin (i, j)\n",
    "        \n",
    "        Periodic boundary conditions implemented\n",
    "        \"\"\"\n",
    "        spin_here = self.lattice_state[i, j]  # value of spin here\n",
    "\n",
    "        # value of spin above, below, left, and right of spin (i, j)\n",
    "        # for each, if on boundary, we wrap around to the other side\n",
    "        # of the lattice for periodic boundary conditions\n",
    "        if j == 0:\n",
    "            spin_above = self.lattice_state[i, self.N - 1]\n",
    "        else:\n",
    "            spin_above = self.lattice_state[i, j - 1]\n",
    "\n",
    "        if j == self.N - 1:\n",
    "            spin_below = self.lattice_state[i, 0]\n",
    "        else:\n",
    "            spin_below = self.lattice_state[i, j + 1]\n",
    "\n",
    "        if i == self.M - 1:\n",
    "            spin_right = self.lattice_state[0, j]\n",
    "        else:\n",
    "            spin_right = self.lattice_state[i + 1, j]\n",
    "\n",
    "        if i == 0:\n",
    "            spin_left = self.lattice_state[self.M - 1, j]\n",
    "        else:\n",
    "            spin_left = self.lattice_state[i - 1, j]\n",
    "\n",
    "        return -self.h * spin_here - self.J * spin_here * (\n",
    "            spin_above + spin_below + spin_left + spin_right\n",
    "        )"
   ]
  },
  {
   "cell_type": "code",
   "execution_count": 17,
   "metadata": {},
   "outputs": [],
   "source": [
    "## add test here for correct behavior"
   ]
  },
  {
   "cell_type": "code",
   "execution_count": 18,
   "metadata": {},
   "outputs": [],
   "source": [
    "# desribe what we want from them here in the next code block"
   ]
  },
  {
   "cell_type": "code",
   "execution_count": 19,
   "metadata": {},
   "outputs": [],
   "source": [
    "class IsingModel(IsingModel):\n",
    "    def calculate_lattice_energy_per_spin(self):\n",
    "        \"\"\"\n",
    "        Calculate energy of lattice normalized by the number of spins\n",
    "        \"\"\"\n",
    "        E = 0.0\n",
    "        for i in range(self.M):\n",
    "            for j in range(self.N):\n",
    "                E += self.calculate_energy_of_spin(i, j)\n",
    "        # factor of two for overcounting neighboring interactions.\n",
    "        # but then need to add back -1/2 h \\sum s_i\n",
    "        return E / 2.0 / (self.M * self.N) - self.h * np.sum(\n",
    "            self.lattice_state\n",
    "        ) / 2.0 / (self.M * self.N)"
   ]
  },
  {
   "cell_type": "code",
   "execution_count": 20,
   "metadata": {},
   "outputs": [],
   "source": [
    "# test code here"
   ]
  },
  {
   "cell_type": "markdown",
   "metadata": {},
   "source": [
    "# Monte Carlo Simulations\n",
    "\n",
    "Theoretically, we have made a very simple model for describing interacting systems. \n",
    "Additionally, we can now start to use this model for predicting observables. \n",
    "For example, for the expectation value of the energy of an $M*N$ lattice, the expectation value would be\n",
    "\n",
    "$$\n",
    "\\langle E\\rangle=\\sum_{\\alpha} E(\\alpha) P(\\alpha)\n",
    "$$\n",
    "\n",
    "where $E(\\alpha)$ is the energy of a fixed state $\\alpha$, and  $P(\\alpha)$ is the probability of being in that fixed state.\n",
    "However, the number of fixed states grows as $2^{(N*M)}$ where $N*M$ is the total number of lattice points.\n",
    "This quickly becomes impractical as the lattice size grows.\n",
    "\n",
    "To deal with this, we use Monte Carlo sampling to sample states $\\alpha$ with probability $P(\\alpha)$."
   ]
  },
  {
   "cell_type": "code",
   "execution_count": 21,
   "metadata": {},
   "outputs": [],
   "source": [
    "# Initialize class\n",
    "class Calculation:\n",
    "    def __init__(self, ising_model, kT=1, num_equil_sweeps=1000, num_sweeps=1000):\n",
    "        \"\"\"\n",
    "        Initializing\n",
    "        \"\"\"\n",
    "        self.num_equil_sweeps = num_equil_sweeps\n",
    "        self.num_sweeps = num_sweeps\n",
    "        self.kT = kT\n",
    "        self.ising_model = ising_model\n",
    "        self.energies_list = []\n",
    "        self.total_spin_list = []"
   ]
  },
  {
   "cell_type": "code",
   "execution_count": 22,
   "metadata": {},
   "outputs": [],
   "source": [
    "class Calculation(Calculation):\n",
    "    def sweep(self):\n",
    "        for site_i in range(self.ising_model.M):\n",
    "            for site_j in range(self.ising_model.N):\n",
    "                E_old = self.ising_model.calculate_energy_of_site(site_i, site_j)\n",
    "                # flip spin i and j\n",
    "                self.ising_model.flip_spin(site_i, site_j)\n",
    "                # calculate updated energy\n",
    "                E_new = self.ising_model.calculate_energy_of_site(site_i, site_j)\n",
    "                # Monte Carlo step\n",
    "                if np.random.random() <= np.exp(-(E_new - E_old) / self.kT):\n",
    "                    # accept move\n",
    "                    E_old = E_new\n",
    "                else:\n",
    "                    # reject move\n",
    "                    # flip spin i and j back\n",
    "                    self.ising_model.flip_spin(site_i, site_j)"
   ]
  },
  {
   "cell_type": "code",
   "execution_count": 23,
   "metadata": {},
   "outputs": [],
   "source": [
    "class Calculation(Calculation):\n",
    "    def record_observables(self):\n",
    "        # calculate total energy\n",
    "        e = self.ising_model.calculate_total_energy_per_spin()\n",
    "        self.energies_list.append(e)\n",
    "\n",
    "        # calculate total s2\n",
    "        s = self.ising_model.calculate_total_spin_per_spin()\n",
    "        self.total_spin_list.append(s)"
   ]
  },
  {
   "cell_type": "code",
   "execution_count": 24,
   "metadata": {},
   "outputs": [],
   "source": [
    "class Calculation(Calculation):\n",
    "    def get_average_energy(self):\n",
    "        return np.mean(self.energies_list)\n",
    "\n",
    "    def get_stderr_energy(self):\n",
    "        return npd.std(self.energies_list) / np.sqrt(self.num_sweeps)\n",
    "\n",
    "    def get_average_spin(self):\n",
    "        return np.mean(self.total_spin_list)\n",
    "\n",
    "    def get_stderr_spin(self):\n",
    "        return np.std(self.total_spin_list) / np.sqrt(self.num_sweeps)\n",
    "\n",
    "    def get_reblocked_avg_stderr_energy(self):\n",
    "        reblock_data = pyblock.blocking.reblock(np.array(self.energies_list))\n",
    "        opt = pyblock.blocking.find_optimal_block(self.num_sweeps, reblock_data)\n",
    "        reblocked_data = reblock_data[opt[0]]\n",
    "        return reblocked_data.mean, reblocked_data.std_err\n",
    "\n",
    "    def get_reblocked_avg_stderr_spin(self):\n",
    "        reblock_data = pyblock.blocking.reblock(np.array(self.total_spin_list))\n",
    "        opt = pyblock.blocking.find_optimal_block(self.num_sweeps, reblock_data)\n",
    "        if np.isnan(opt[0]):\n",
    "            # reblocked_data = reblock_data[-1]\n",
    "            # return reblocked_data.mean, reblocked_data.std_err\n",
    "            means = []\n",
    "            start = 0\n",
    "            end = len(self.total_spin_list) // 5\n",
    "\n",
    "            for i in range(4):\n",
    "                means.append(np.mean(self.total_spin_list[start:end]))\n",
    "                start = end\n",
    "                end = start + len(self.total_spin_list) // 5\n",
    "            means.append(np.mean(self.total_spin_list[end::]))\n",
    "            return np.mean(means), np.std(means) / np.sqrt(len(means))\n",
    "        else:\n",
    "            reblocked_data = reblock_data[opt[0]]\n",
    "            return reblocked_data.mean, reblocked_data.std_err"
   ]
  },
  {
   "cell_type": "code",
   "execution_count": 25,
   "metadata": {},
   "outputs": [],
   "source": [
    "class Calculation(Calculation):\n",
    "    def run_calculation(self):\n",
    "        for sweep in range(self.num_equil_sweeps):\n",
    "            self.sweep()\n",
    "        for sweep in range(self.num_sweeps):\n",
    "            self.sweep()\n",
    "            self.record_observables()"
   ]
  },
  {
   "cell_type": "markdown",
   "metadata": {},
   "source": [
    "# Applications of the class"
   ]
  },
  {
   "cell_type": "markdown",
   "metadata": {},
   "source": [
    "1) Run an Ising model simulation with the following parameters:\n",
    "\n",
    "Again, we initialize the python class as: `our_model = IsingModel(n, m, J, h)`\n",
    "\n",
    "- finite size effects: studying two different lattice sizes\n",
    "    - what differences do you notice at 10x10 and 30x30\n",
    "- finding the transition temperature\n",
    "    - distributions of spins above and below\n",
    "- Standard deviation changes around phase transitions\n",
    "- with and without magnetic field"
   ]
  },
  {
   "cell_type": "markdown",
   "metadata": {},
   "source": [
    "We will be comparing our simulation to that of the analytical result. The analytical result is defined as:\n",
    "\n"
   ]
  },
  {
   "cell_type": "code",
   "execution_count": 26,
   "metadata": {},
   "outputs": [],
   "source": [
    "def analytical(x, J):\n",
    "    analytical_solution = []\n",
    "    for i in x:\n",
    "        if i < 2.269:\n",
    "            analytical_solution.append(\n",
    "                (1 - np.sinh((2 * J) / i) ** (-4)) ** (1.0 / 8.0)\n",
    "            )\n",
    "        else:\n",
    "            analytical_solution.append(0)\n",
    "\n",
    "    return analytical_solution"
   ]
  },
  {
   "cell_type": "markdown",
   "metadata": {},
   "source": [
    "we want to look at a range of $kT$ values. We will look at a set of values to do our simulation, and a finer mesh of points to calculate the analytical solution since that is a quick calculation.\n",
    "\n",
    "The `np.arange` function generates a list of numbers with a certain spacing between the values. The function takes three arguments, The first argument is the number you want to start with, the second argument is the number you want to finsih your list of numbers on, the third argument is the spacing between the numbers"
   ]
  },
  {
   "cell_type": "code",
   "execution_count": 29,
   "metadata": {},
   "outputs": [],
   "source": [
    "analytical_kT_list = np.arange(1.2, 3.0, 0.001)\n",
    "simulation_kT_list = np.arange(1.2, 3.0, 0.1)"
   ]
  },
  {
   "cell_type": "code",
   "execution_count": 30,
   "metadata": {},
   "outputs": [],
   "source": [
    "avg_s_list = []\n",
    "stderr_s_list = []\n",
    "n = 10\n",
    "m = 10\n",
    "J = 1\n",
    "h = 0.00\n",
    "num_equil = 100\n",
    "num_sample = 1500\n",
    "s_analytical = analytical(analytical_kT_list, J)\n",
    "a = IsingModel(n, m, J, h)"
   ]
  },
  {
   "cell_type": "code",
   "execution_count": 31,
   "metadata": {},
   "outputs": [
    {
     "ename": "AttributeError",
     "evalue": "'IsingModel' object has no attribute 'calculate_energy_of_site'",
     "output_type": "error",
     "traceback": [
      "\u001b[0;31m---------------------------------------------------------------------------\u001b[0m",
      "\u001b[0;31mAttributeError\u001b[0m                            Traceback (most recent call last)",
      "\u001b[0;32m<ipython-input-31-5a94874703bd>\u001b[0m in \u001b[0;36m<module>\u001b[0;34m\u001b[0m\n\u001b[1;32m      1\u001b[0m \u001b[0;32mfor\u001b[0m \u001b[0mkT\u001b[0m \u001b[0;32min\u001b[0m \u001b[0msimulation_kT_list\u001b[0m\u001b[0;34m:\u001b[0m\u001b[0;34m\u001b[0m\u001b[0;34m\u001b[0m\u001b[0m\n\u001b[1;32m      2\u001b[0m     \u001b[0ma2\u001b[0m \u001b[0;34m=\u001b[0m \u001b[0mCalculation\u001b[0m\u001b[0;34m(\u001b[0m\u001b[0ma\u001b[0m\u001b[0;34m,\u001b[0m \u001b[0mkT\u001b[0m\u001b[0;34m=\u001b[0m\u001b[0mkT\u001b[0m\u001b[0;34m,\u001b[0m \u001b[0mnum_equil_sweeps\u001b[0m\u001b[0;34m=\u001b[0m\u001b[0mnum_equil\u001b[0m\u001b[0;34m,\u001b[0m \u001b[0mnum_sweeps\u001b[0m\u001b[0;34m=\u001b[0m\u001b[0mnum_sample\u001b[0m\u001b[0;34m)\u001b[0m\u001b[0;34m\u001b[0m\u001b[0;34m\u001b[0m\u001b[0m\n\u001b[0;32m----> 3\u001b[0;31m     \u001b[0ma2\u001b[0m\u001b[0;34m.\u001b[0m\u001b[0mrun_calculation\u001b[0m\u001b[0;34m(\u001b[0m\u001b[0;34m)\u001b[0m\u001b[0;34m\u001b[0m\u001b[0;34m\u001b[0m\u001b[0m\n\u001b[0m\u001b[1;32m      4\u001b[0m     \u001b[0mmean\u001b[0m\u001b[0;34m,\u001b[0m \u001b[0mstd_err\u001b[0m \u001b[0;34m=\u001b[0m \u001b[0ma2\u001b[0m\u001b[0;34m.\u001b[0m\u001b[0mget_reblocked_avg_stderr_spin\u001b[0m\u001b[0;34m(\u001b[0m\u001b[0;34m)\u001b[0m\u001b[0;34m\u001b[0m\u001b[0;34m\u001b[0m\u001b[0m\n\u001b[1;32m      5\u001b[0m     \u001b[0mprint\u001b[0m\u001b[0;34m(\u001b[0m\u001b[0;34m\"kT={}    {}    {}\"\u001b[0m\u001b[0;34m.\u001b[0m\u001b[0mformat\u001b[0m\u001b[0;34m(\u001b[0m\u001b[0mkT\u001b[0m\u001b[0;34m,\u001b[0m \u001b[0mmean\u001b[0m\u001b[0;34m,\u001b[0m \u001b[0mstd_err\u001b[0m\u001b[0;34m)\u001b[0m\u001b[0;34m)\u001b[0m\u001b[0;34m\u001b[0m\u001b[0;34m\u001b[0m\u001b[0m\n",
      "\u001b[0;32m<ipython-input-25-2126ba19c771>\u001b[0m in \u001b[0;36mrun_calculation\u001b[0;34m(self)\u001b[0m\n\u001b[1;32m      2\u001b[0m     \u001b[0;32mdef\u001b[0m \u001b[0mrun_calculation\u001b[0m\u001b[0;34m(\u001b[0m\u001b[0mself\u001b[0m\u001b[0;34m)\u001b[0m\u001b[0;34m:\u001b[0m\u001b[0;34m\u001b[0m\u001b[0;34m\u001b[0m\u001b[0m\n\u001b[1;32m      3\u001b[0m         \u001b[0;32mfor\u001b[0m \u001b[0msweep\u001b[0m \u001b[0;32min\u001b[0m \u001b[0mrange\u001b[0m\u001b[0;34m(\u001b[0m\u001b[0mself\u001b[0m\u001b[0;34m.\u001b[0m\u001b[0mnum_equil_sweeps\u001b[0m\u001b[0;34m)\u001b[0m\u001b[0;34m:\u001b[0m\u001b[0;34m\u001b[0m\u001b[0;34m\u001b[0m\u001b[0m\n\u001b[0;32m----> 4\u001b[0;31m             \u001b[0mself\u001b[0m\u001b[0;34m.\u001b[0m\u001b[0msweep\u001b[0m\u001b[0;34m(\u001b[0m\u001b[0;34m)\u001b[0m\u001b[0;34m\u001b[0m\u001b[0;34m\u001b[0m\u001b[0m\n\u001b[0m\u001b[1;32m      5\u001b[0m         \u001b[0;32mfor\u001b[0m \u001b[0msweep\u001b[0m \u001b[0;32min\u001b[0m \u001b[0mrange\u001b[0m\u001b[0;34m(\u001b[0m\u001b[0mself\u001b[0m\u001b[0;34m.\u001b[0m\u001b[0mnum_sweeps\u001b[0m\u001b[0;34m)\u001b[0m\u001b[0;34m:\u001b[0m\u001b[0;34m\u001b[0m\u001b[0;34m\u001b[0m\u001b[0m\n\u001b[1;32m      6\u001b[0m             \u001b[0mself\u001b[0m\u001b[0;34m.\u001b[0m\u001b[0msweep\u001b[0m\u001b[0;34m(\u001b[0m\u001b[0;34m)\u001b[0m\u001b[0;34m\u001b[0m\u001b[0;34m\u001b[0m\u001b[0m\n",
      "\u001b[0;32m<ipython-input-22-56ce256c5d7c>\u001b[0m in \u001b[0;36msweep\u001b[0;34m(self)\u001b[0m\n\u001b[1;32m      3\u001b[0m         \u001b[0;32mfor\u001b[0m \u001b[0msite_i\u001b[0m \u001b[0;32min\u001b[0m \u001b[0mrange\u001b[0m\u001b[0;34m(\u001b[0m\u001b[0mself\u001b[0m\u001b[0;34m.\u001b[0m\u001b[0mising_model\u001b[0m\u001b[0;34m.\u001b[0m\u001b[0mM\u001b[0m\u001b[0;34m)\u001b[0m\u001b[0;34m:\u001b[0m\u001b[0;34m\u001b[0m\u001b[0;34m\u001b[0m\u001b[0m\n\u001b[1;32m      4\u001b[0m             \u001b[0;32mfor\u001b[0m \u001b[0msite_j\u001b[0m \u001b[0;32min\u001b[0m \u001b[0mrange\u001b[0m\u001b[0;34m(\u001b[0m\u001b[0mself\u001b[0m\u001b[0;34m.\u001b[0m\u001b[0mising_model\u001b[0m\u001b[0;34m.\u001b[0m\u001b[0mN\u001b[0m\u001b[0;34m)\u001b[0m\u001b[0;34m:\u001b[0m\u001b[0;34m\u001b[0m\u001b[0;34m\u001b[0m\u001b[0m\n\u001b[0;32m----> 5\u001b[0;31m                 \u001b[0mE_old\u001b[0m \u001b[0;34m=\u001b[0m \u001b[0mself\u001b[0m\u001b[0;34m.\u001b[0m\u001b[0mising_model\u001b[0m\u001b[0;34m.\u001b[0m\u001b[0mcalculate_energy_of_site\u001b[0m\u001b[0;34m(\u001b[0m\u001b[0msite_i\u001b[0m\u001b[0;34m,\u001b[0m \u001b[0msite_j\u001b[0m\u001b[0;34m)\u001b[0m\u001b[0;34m\u001b[0m\u001b[0;34m\u001b[0m\u001b[0m\n\u001b[0m\u001b[1;32m      6\u001b[0m                 \u001b[0;31m# flip spin i and j\u001b[0m\u001b[0;34m\u001b[0m\u001b[0;34m\u001b[0m\u001b[0;34m\u001b[0m\u001b[0m\n\u001b[1;32m      7\u001b[0m                 \u001b[0mself\u001b[0m\u001b[0;34m.\u001b[0m\u001b[0mising_model\u001b[0m\u001b[0;34m.\u001b[0m\u001b[0mflip_spin\u001b[0m\u001b[0;34m(\u001b[0m\u001b[0msite_i\u001b[0m\u001b[0;34m,\u001b[0m \u001b[0msite_j\u001b[0m\u001b[0;34m)\u001b[0m\u001b[0;34m\u001b[0m\u001b[0;34m\u001b[0m\u001b[0m\n",
      "\u001b[0;31mAttributeError\u001b[0m: 'IsingModel' object has no attribute 'calculate_energy_of_site'"
     ]
    }
   ],
   "source": [
    "for kT in simulation_kT_list:\n",
    "    a2 = Calculation(a, kT=kT, num_equil_sweeps=num_equil, num_sweeps=num_sample)\n",
    "    a2.run_calculation()\n",
    "    mean, std_err = a2.get_reblocked_avg_stderr_spin()\n",
    "    print(\"kT={}    {}    {}\".format(kT, mean, std_err))\n",
    "\n",
    "    avg_s_list.append(np.abs(mean))\n",
    "    stderr_s_list.append(std_err)\n",
    "    s = a2.total_spin_list\n",
    "    fig, ax = plt.subplots(tight_layout=True)\n",
    "    fig.set_size_inches(8, 5)\n",
    "    n_bins = 25\n",
    "    bins = np.linspace(-1, 1, n_bins)\n",
    "    ax.hist(s, bins=bins)\n",
    "    ax.set_title(\n",
    "        \"kT={:>4.2f} n={:>02d}, m={:>02d}, J={:>4.2f}, h={:>4.2f} samp={}\".format(\n",
    "            kT, n, m, J, h, num_sample\n",
    "        )\n",
    "    )\n",
    "    ax.set_xlim(-1.1, 1.1)\n",
    "    plt.tight_layout()\n",
    "    plt.savefig(\n",
    "        \"metropolis_s_hist_kT_{:4.2f}_n_{:>02d}_m_{:>02d}_J_{:>4.2f}_h_{:>4.2f}_samp_{}.png\".format(\n",
    "            kT, n, m, J, h, num_sample\n",
    "        ),\n",
    "        dpi=300,\n",
    "    )\n",
    "    # plt.show()\n",
    "    s = pd.Series(s)\n",
    "    print(\"avg s autocorr = {}\".format(s.autocorr()))\n",
    "plt.figure(figsize=(8, 5))\n",
    "plt.errorbar(kT_list, avg_s_list, stderr_s_list, label=\"avg S\")\n",
    "plt.plot(plot_kT_list, s_analytical, label=\"analytical\")\n",
    "plt.title(\n",
    "    \"n={:>02d}, m={:>02d}, J={:>4.2f}, h={:>4.2f} samp={}\".format(\n",
    "        n, m, J, h, num_sample\n",
    "    )\n",
    ")\n",
    "\n",
    "plt.legend()\n",
    "plt.tight_layout()\n",
    "plt.savefig(\n",
    "    \"metropolis_avg_s_n_{:>02d}_m_{:>02d}_J_{:>4.2f}_h_{:>4.2f}_samp_{}.png\".format(\n",
    "        n, m, J, h, num_sample\n",
    "    ),\n",
    "    dpi=300,\n",
    ")\n",
    "# plt.show()"
   ]
  },
  {
   "cell_type": "markdown",
   "metadata": {},
   "source": [
    "### References:\n",
    "\n",
    "code: \n",
    "    \n",
    "theory: https://arxiv.org/pdf/0803.0217.pdf"
   ]
  },
  {
   "cell_type": "code",
   "execution_count": null,
   "metadata": {},
   "outputs": [],
   "source": []
  }
 ],
 "metadata": {
  "kernelspec": {
   "display_name": "Python 3",
   "language": "python",
   "name": "python3"
  },
  "language_info": {
   "codemirror_mode": {
    "name": "ipython",
    "version": 3
   },
   "file_extension": ".py",
   "mimetype": "text/x-python",
   "name": "python",
   "nbconvert_exporter": "python",
   "pygments_lexer": "ipython3",
   "version": "3.8.2"
  }
 },
 "nbformat": 4,
 "nbformat_minor": 4
}
