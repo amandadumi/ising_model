{
 "cells": [
  {
   "cell_type": "markdown",
   "metadata": {},
   "source": [
    "In this lab we will look at modeling an Ising system with Monte Carlo.\n",
    "Most of the Python will be explained, but if you wanted practice, it can be found [here](https://www.learnpython.org/en/Welcome). From the short tutorials listed under Python basics, you are to be familiar with:\n",
    "- Variables & Types\n",
    "- Lists\n",
    "- Basic Operators\n",
    "- Conditions\n",
    "- Loops\n",
    "- Functions\n",
    "- Classes & objects."
   ]
  },
  {
   "cell_type": "markdown",
   "metadata": {},
   "source": [
    "# Ising Model \n",
    "\n",
    "The Ising model is a lattice of $k$ interacting sites. Each site has a spin $\\sigma_k$ which can have a value of +1 or -1. The spins are allowed to interact with their nearest-neighbor spins. The Hamiltonian for the system is given by:\n",
    "\n",
    "$$\n",
    "H(\\sigma)=-\\sum_{\\langle i j\\rangle} J_{i j} \\sigma_{i} \\sigma_{j}-\\sum_{j} h_{j} \\sigma_{j}\n",
    "$$\n",
    "\n",
    "where $\\langle i j\\rangle$ indicate a sum over only nearest neighbors. The interaction between spins is captured in $J$. If $J$ is positive, the spins will want to align with their neighbors or system will behave ferromagnetically. If $J$ is negative, the spins will want to antialign with their neighbors or system will behave antiferromagnetically. A magnetic field aligned with the spins is represented by $h_j$.\n",
    "\n",
    "We will start by introducing some code for this model. "
   ]
  },
  {
   "cell_type": "markdown",
   "metadata": {},
   "source": [
    "To begin, we need to import the Python modules we will need. If you're not familiar with these, here is an overview: \n",
    "- `numpy` allows us to perform the necessary math\n",
    "- `matplotlib` will allows us to visualize our results\n",
    "- `pandas` will help up tabulate data cleanly\n",
    "- `time` will allow us to time the simulation\n",
    "- `pyblock` handles reblocking, which will be discussed later in the notebook"
   ]
  },
  {
   "cell_type": "markdown",
   "metadata": {},
   "source": [
    "The cell below will ensure you have all necessary packages installed"
   ]
  },
  {
   "cell_type": "code",
   "execution_count": null,
   "metadata": {},
   "outputs": [],
   "source": [
    "%pip install numpy matplotlib pyblock pandas"
   ]
  },
  {
   "cell_type": "code",
   "execution_count": 1,
   "metadata": {},
   "outputs": [],
   "source": [
    "import numpy as np\n",
    "import matplotlib.pyplot as plt\n",
    "import pyblock\n",
    "import pandas as pd\n",
    "import time"
   ]
  },
  {
   "cell_type": "markdown",
   "metadata": {},
   "source": [
    "We'll also import some helper utilities that we wrote to make things easier for you"
   ]
  },
  {
   "cell_type": "code",
   "execution_count": 2,
   "metadata": {},
   "outputs": [],
   "source": [
    "import ising_utils as iu"
   ]
  },
  {
   "cell_type": "markdown",
   "metadata": {},
   "source": [
    "# Ising Model Parameters\n",
    "We will store the information about a $M$ by $N$ 2D lattice of spins using a dictionary like below:"
   ]
  },
  {
   "cell_type": "code",
   "execution_count": 3,
   "metadata": {},
   "outputs": [],
   "source": [
    "ip = {\"J\": None, \"h\": None, \"M\": None, \"N\": None}"
   ]
  },
  {
   "cell_type": "markdown",
   "metadata": {},
   "source": [
    "# Initializing a lattice\n",
    "The function below takes a dictionary of Ising model parameters `ip` and initializes a lattice to be all spin up.\n",
    "\n",
    "The lattice state will be stored as a $M$ by $N$ array of 1 and -1 which will represent spin up and down respectively."
   ]
  },
  {
   "cell_type": "code",
   "execution_count": 4,
   "metadata": {},
   "outputs": [],
   "source": [
    "def initialize_lattice_state(ip):\n",
    "    \"\"\"\n",
    "    Initializing the lattice of size MxN to all ones\n",
    "    \"\"\"\n",
    "    lattice_state = np.ones((ip[\"M\"], ip[\"N\"]))\n",
    "    return lattice_state"
   ]
  },
  {
   "cell_type": "markdown",
   "metadata": {},
   "source": [
    "The code below initializes an example $3\\times3$ lattice with $J = 1, h = 0$."
   ]
  },
  {
   "cell_type": "code",
   "execution_count": null,
   "metadata": {},
   "outputs": [],
   "source": [
    "# Initializing a model of 3x3 spins, with J = 1 and h = 0\n",
    "ip = {\"J\": 1, \"h\": 0 , \"M\": 3, \"N\": 3}\n",
    "example_lattice = initialize_lattice_state(ip) \n",
    "# visualize the lattice\n",
    "iu.plot_lattice(example_lattice)"
   ]
  },
  {
   "cell_type": "markdown",
   "metadata": {},
   "source": [
    "## Exercise 1: Initialize an example lattice\n",
    "\n",
    "Use the function above to initialize an example $5\\times8$ lattice with $J = 2, h = 0.01$.\n",
    "\n",
    "1. Create a dictionary of Ising model parameters named `ip`\n",
    "2. Call the function `initialize_lattice_state` above with `ip` as an argument. Store the result in a variable named `lattice`"
   ]
  },
  {
   "cell_type": "code",
   "execution_count": 15,
   "metadata": {},
   "outputs": [],
   "source": [
    "# place code to initialize here\n",
    "ip = {\"J\": 2, \"h\": 0.01 , \"M\": 5, \"N\": 8}\n",
    "lattice = initialize_lattice_state(ip) "
   ]
  },
  {
   "cell_type": "code",
   "execution_count": 27,
   "metadata": {},
   "outputs": [
    {
     "name": "stdout",
     "output_type": "stream",
     "text": [
      "Check: OK\n",
      "The variable 'ip' exists.\n",
      "Check: OK\n",
      "The variable 'ip' is a dictionary.\n",
      "Check: OK\n",
      "The variable 'lattice' exists.\n",
      "Check: OK\n",
      "The variable 'lattice' is a numpy array.\n",
      "Check: OK\n",
      "The dictionary 'ip' has the right keys and they aren't 'None'.\n",
      "Check: OK\n",
      "The variable 'ip' has all the right values in it.\n"
     ]
    }
   ],
   "source": [
    "# hide this\n",
    "try: \n",
    "    ip\n",
    "    print(\"Check: OK\")\n",
    "    print(\"The variable 'ip' exists.\")\n",
    "except NameError:\n",
    "    print(\"Check: FAILED\")\n",
    "    print(\"The variable 'ip' is not defined.\")\n",
    "\n",
    "try: \n",
    "    assert type(ip) is dict\n",
    "    print(\"Check: OK\")\n",
    "    print(\"The variable 'ip' is a dictionary.\")\n",
    "except:\n",
    "    print(\"Check: FAILED\")\n",
    "    print(\"The variable 'ip' is not a dictionary. It has been defined as a {}\".format(type(ip)))\n",
    "    \n",
    "try: \n",
    "    lattice\n",
    "    print(\"Check: OK\")\n",
    "    print(\"The variable 'lattice' exists.\")\n",
    "except NameError:\n",
    "    print(\"Check: FAILED\")\n",
    "    print(\"The variable 'lattice' is not defined.\\nDid you forget to store the result of the function in a variable named 'lattice'?\")\n",
    "    \n",
    "try: \n",
    "    assert type(lattice) is np.ndarray\n",
    "    print(\"Check: OK\")\n",
    "    print(\"The variable 'lattice' is a numpy array.\")\n",
    "except:\n",
    "    print(\"Check: FAILED\")\n",
    "    print(\"The variable 'lattice' is not a numpy array. It has been defined as a {}.\".format(type(lattice)))\n",
    "\n",
    "try:\n",
    "    assert list(ip.keys()) == [\"J\",\"h\",\"M\",\"N\"]\n",
    "    for i in [\"J\",\"h\",\"M\",\"N\"]:\n",
    "        assert ip[i] != None\n",
    "    print(\"Check: OK\")\n",
    "    print(\"The dictionary 'ip' has the right keys and they aren't 'None'.\")\n",
    "except:\n",
    "    print(\"Check: FAILED\")\n",
    "    print(\"The parameters dictionary 'ip' doesn't have all of the parameters defined or at least one of them is 'None'. ['J','h','M','N']\")\n",
    "    iu.print_params(ip)\n",
    "try:\n",
    "    assert np.shape(lattice)[0] == 5\n",
    "    assert np.shape(lattice)[1] == 8\n",
    "    assert ip['J'] == 2\n",
    "    assert ip['h'] == 0.01\n",
    "    print(\"Check: OK\")\n",
    "    print(\"The variable 'ip' has all the right values in it.\")\n",
    "except:\n",
    "    print(\"Check: FAILED\")\n",
    "    print(\"At least one of the parameters in the dictionary 'ip' is incorrect.\")\n",
    "    iu.print_params(ip)"
   ]
  },
  {
   "cell_type": "markdown",
   "metadata": {},
   "source": [
    "## Coding functions for the model\n",
    "Next, you will be coding your first functions for the model. \n",
    "\n",
    "The functions we will need to create are: \n",
    "- the ability to flip a specific spin within the lattice\n",
    "- the ability to go through each lattice site to calculate the energy of the lattice.\n",
    "- a function to calculate the energy per site.\n",
    "\n",
    "\n",
    "\n",
    "```python\n",
    " def function_name(ARGUMENTS HERE):\n",
    "        CODE HERE\n",
    " ```\n",
    " \n",
    " \n",
    " We will first start with the function to flip (i.e. at a specific site in the lattice, $ i $, $ j $, the spin will flip and that lattice site will be the negative of itself.)\n"
   ]
  },
  {
   "cell_type": "code",
   "execution_count": null,
   "metadata": {},
   "outputs": [],
   "source": [
    "def flip_spin(lattice_state, i, j):\n",
    "    \"\"\"\n",
    "    Flip spin (i, j)\n",
    "    i.e. -1 ---> 1\n",
    "          1 ---> -1\n",
    "    \"\"\"\n",
    "    new_lattice_state = np.copy(lattice_state)\n",
    "    new_lattice_state[i, j] = -new_lattice_state[i, j]\n",
    "    return new_lattice_state\n",
    "\n"
   ]
  },
  {
   "cell_type": "markdown",
   "metadata": {},
   "source": [
    "# Test 2\n",
    "As you did above initaite a new 5x5 lattice, with J = 1 and h = 0. \n",
    "Place the lattice in a variable called `example_lattice`.\n",
    "Use the `flip_spin` function you wrote above twice to flip the spin at (0,1) and then at (4,4).\n"
   ]
  },
  {
   "cell_type": "code",
   "execution_count": null,
   "metadata": {},
   "outputs": [],
   "source": [
    "ip = {\"J\": 1, \"h\": 0 , \"M\": 5, \"N\": 5}\n",
    "example_lattice = initialize_lattice_state(ip) \n",
    "example_lattice = flip_spin(example_lattice, 0,1)\n",
    "example_lattice = flip_spin(example_lattice, 4,4)\n",
    "iu.plot_lattice(example_lattice)\n",
    "\n",
    "assert example_lattice[0,1] == -1\n",
    "assert example_lattice[4,4] == -1\n",
    "\n",
    "assert np.sum(example_lattice) == ((ip['M']*ip['N'] )-4)\n"
   ]
  },
  {
   "cell_type": "markdown",
   "metadata": {},
   "source": [
    "# Calculating the energy of a site\n",
    "\n",
    "The next function we want to write is the function to estimate the energy of the entire lattice.\n",
    "One thing that will affect our \n",
    "\n",
    "Our model will implement periodic boundary conditions to approximate a large infinite system with a small unit cell.\n",
    "The unit cell in our case is the M$\\times$N lattice we have described.\n",
    "We can imagine a 3x3 lattice as\n",
    "```\n",
    "    A   B   C \n",
    "0 | _ | _ | _ |\n",
    "1 | _ | _ | _ |\n",
    "2 | _ | _ | _ |\n",
    "```\n",
    "\n",
    "With periodic boundary conditions, a copy of the unit cell we have defined will be placed on all sides of the current unit cell.\n",
    "```\n",
    "     A   B   C    A   B   C    A   B   C \n",
    "0  | _ | _ | _ || _ | _ | _ || _ | _ | _ |\n",
    "1  | _ | _ | _ || _ | _ | _ || _ | _ | _ |\n",
    "2  | _ | _ | _ || o | _ | _ || _ | _ | _ |\n",
    "   =======================================\n",
    "0  | _ | _ | o || + | x | _ || _ | _ | _ |\n",
    "1  | _ | _ | _ || x | _ | _ || _ | _ | _ |\n",
    "2  | _ | _ | _ || _ | _ | _ || _ | _ | _ |\n",
    "   =======================================\n",
    "0  | _ | _ | _ || _ | _ | _ || _ | _ | _ |\n",
    "1  | _ | _ | _ || _ | _ | _ || _ | _ | _ |\n",
    "2  | _ | _ | _ || _ | _ | _ || _ | _ | _ |\n",
    "```\n",
    "\n",
    "Let's explore the interactions felt by the center unit cell above, specifically the 0A site marked with a +. Where the site 0A in the individual unit cell will interact with other sites within the unit cell such as 1A and 0B within the cell marked with Xs above. \n",
    "With periodic boundary condition in place, 0A will also 'see' or interact with 0C of the cell to the left and 2A of the cell above marked with an o.\n",
    "\n",
    "For instance, for each and every spin in the unit cell we must calculate all neighboring spins in the 2-D lattice.\n",
    "In other words we must look to the spins above, below, to the right, and to the left.\n",
    "Once we have the values of the neighboring spins, the energy of a specific lattice site is calculated as:\n",
    "$$E = -h\\sigma_{ij} - J\n",
    "\\sigma_{ij}(\\sigma_{i+1,j}+\\sigma_{i-1,j}+\\sigma_{i,j+1}+\\sigma_{i,j-1})$$\n",
    "\n",
    "\n",
    "# Exercise: calculate the energy of a site\n",
    "\n",
    "The function below will return the energy experession for a single site.\n",
    "This will require the neighbors of the current site $i$,$j$.\n",
    "\n",
    "There will be boundary cases to consider:\n",
    "   - If you are along the top edge of the lattice, $j == 0$.\n",
    "   - If you are along the bottom edge of the lattice, $j == N-1$.\n",
    "   - If you are along the left edge of the lattice, $i == 0$.\n",
    "   - If you are along the right edge of the lattice, $i == M-1$.\n",
    "\n",
    "Recall that python indexing starts from 0 which is why $M-1$ and $N-1$ describe the right and bottom edge respectively rather than $M$ and $N$."
   ]
  },
  {
   "cell_type": "code",
   "execution_count": null,
   "metadata": {},
   "outputs": [],
   "source": [
    "def calculate_energy_of_site(lattice_state, ip, i, j):\n",
    "    \"\"\"\n",
    "    Calculate energy of spin (i, j)\n",
    "\n",
    "    Periodic boundary conditions implemented\n",
    "    \"\"\"\n",
    "    spin_here = lattice_state[i, j]  # value of spin here\n",
    "\n",
    "    # value of spin above, below, left, and right of spin (i, j)\n",
    "    # for each, if on boundary, we wrap around to the other side\n",
    "    # of the lattice for periodic boundary conditions\n",
    "    if j == 0:\n",
    "        spin_above = lattice_state[i, ip[\"N\"] - 1]\n",
    "    else:\n",
    "        spin_above = lattice_state[i, j - 1]\n",
    "\n",
    "    if j == ip[\"N\"] - 1:\n",
    "        spin_below = lattice_state[i, 0]\n",
    "    else:\n",
    "        spin_below = lattice_state[i, j + 1]\n",
    "\n",
    "    if i == ip[\"M\"] - 1:\n",
    "        spin_right = lattice_state[0, j]\n",
    "    else:\n",
    "        spin_right = lattice_state[i + 1, j]\n",
    "\n",
    "    if i == 0:\n",
    "        spin_left = lattice_state[ip[\"M\"] - 1, j]\n",
    "    else:\n",
    "        spin_left = lattice_state[i - 1, j]\n",
    "\n",
    "    return -ip[\"h\"] * spin_here - ip[\"J\"] * spin_here * (\n",
    "        spin_above + spin_below + spin_left + spin_right\n",
    "    )\n"
   ]
  },
  {
   "cell_type": "code",
   "execution_count": null,
   "metadata": {},
   "outputs": [],
   "source": [
    "assert calculate_energy_of_site(example_lattice,ip,0,0) == -2\n",
    "assert calculate_energy_of_site(example_lattice,ip,0,4) == -2\n",
    "assert calculate_energy_of_site(example_lattice,ip,4,0) == -2\n",
    "assert calculate_energy_of_site(example_lattice,ip,4,4) == 4\n",
    "assert calculate_energy_of_site(example_lattice,ip,2,2) == -4"
   ]
  },
  {
   "cell_type": "code",
   "execution_count": null,
   "metadata": {},
   "outputs": [],
   "source": [
    "# desribe what we want from them here in the next code block"
   ]
  },
  {
   "cell_type": "code",
   "execution_count": null,
   "metadata": {},
   "outputs": [],
   "source": [
    "def calculate_total_spin(lattice_state):\n",
    "    \"\"\"\n",
    "    Calculate total spin of the lattice\n",
    "    \"\"\"\n",
    "    return np.sum(lattice_state)\n",
    "\n",
    "\n",
    "def calculate_total_spin_per_spin(lattice_state, ip):\n",
    "    \"\"\"\n",
    "    Calculate total spin of the lattice\n",
    "    \"\"\"\n",
    "    return calculate_total_spin(lattice_state) / (ip[\"M\"] * ip[\"N\"])\n",
    "\n",
    "\n",
    "def calculate_total_energy(lattice_state, ip):\n",
    "    \"\"\"\n",
    "    Calculate total energy of the lattice\n",
    "    \"\"\"\n",
    "    E = 0.0\n",
    "    for i in range(ip[\"M\"]):\n",
    "        for j in range(ip[\"N\"]):\n",
    "            E += calculate_energy_of_site(lattice_state, ip, i, j)\n",
    "    # factor of two for overcounting neighboring interactions.\n",
    "    # but then need to add back -1/2 h \\sum s_i\n",
    "    return (E - (ip[\"h\"] * calculate_total_spin(lattice_state))) / 2.0\n",
    "\n",
    "\n",
    "def calculate_total_energy_per_spin(lattice_state, ip):\n",
    "    \"\"\"\n",
    "    Calculate energy of lattice normalized by the number of spins\n",
    "    \"\"\"\n",
    "    return calculate_total_energy(lattice_state, ip) / (ip[\"M\"] * ip[\"N\"])\n",
    "\n"
   ]
  },
  {
   "cell_type": "code",
   "execution_count": null,
   "metadata": {},
   "outputs": [],
   "source": [
    "# test code here"
   ]
  },
  {
   "cell_type": "markdown",
   "metadata": {},
   "source": [
    "# Monte Carlo Simulations\n",
    "\n",
    "Theoretically, we have made a very simple model for describing interacting systems. \n",
    "Additionally, we can now start to use this model for predicting observables. \n",
    "For example, for the expectation value of the energy of an $M*N$ lattice, the expectation value would be\n",
    "\n",
    "$$\n",
    "\\langle E\\rangle=\\sum_{\\alpha} E(\\alpha) P(\\alpha)\n",
    "$$\n",
    "\n",
    "where $E(\\alpha)$ is the energy of a fixed state $\\alpha$, and  $P(\\alpha)$ is the probability of being in that fixed state.\n",
    "However, the number of fixed states grows as $2^{(N*M)}$ where $N*M$ is the total number of lattice points.\n",
    "This quickly becomes impractical as the lattice size grows.\n",
    "\n",
    "To deal with this, we use Monte Carlo sampling to sample states $\\alpha$ with probability $P(\\alpha)$."
   ]
  },
  {
   "cell_type": "code",
   "execution_count": null,
   "metadata": {},
   "outputs": [],
   "source": [
    "def metropolis_test(sp, E_new, E_old):\n",
    "    if np.random.random() <= np.exp(-(E_new - E_old) / sp[\"kT\"]):\n",
    "        return True\n",
    "    else:\n",
    "        return False"
   ]
  },
  {
   "cell_type": "code",
   "execution_count": null,
   "metadata": {},
   "outputs": [],
   "source": [
    "# describe data type/dictionaries"
   ]
  },
  {
   "cell_type": "code",
   "execution_count": null,
   "metadata": {},
   "outputs": [],
   "source": [
    "# simulation parameters\n",
    "sp = {\"num_equil_sweeps\": None, \"num_sweeps\": None, \"kT\": None}\n",
    "# simulation results:\n",
    "sr = {\"energy_list\": [], \"total_spin_list\": []}"
   ]
  },
  {
   "cell_type": "code",
   "execution_count": null,
   "metadata": {},
   "outputs": [],
   "source": [
    "# describe the algorithm in words here\n",
    "# they don't need to code anything."
   ]
  },
  {
   "cell_type": "code",
   "execution_count": null,
   "metadata": {},
   "outputs": [],
   "source": [
    "def sweep(lattice_state, ip, sp):\n",
    "    for site_i in range(ip[\"M\"]):\n",
    "        for site_j in range(ip[\"N\"]):\n",
    "            E_old = calculate_energy_of_site(lattice_state, ip, site_i, site_j)\n",
    "            # flip spin i and jN\n",
    "            new_lattice_state = flip_spin(lattice_state, site_i, site_j)\n",
    "            # calculate updated energy\n",
    "            E_new = calculate_energy_of_site(new_lattice_state, ip, site_i, site_j)\n",
    "            # Monte Carlo step\n",
    "            if metropolis_test(sp, E_new, E_old):\n",
    "                # accept move\n",
    "                E_old = E_new\n",
    "                lattice_state = np.copy(new_lattice_state)\n",
    "            else:\n",
    "                # reject move\n",
    "                # do nothing just continue\n",
    "                continue\n",
    "    return lattice_state"
   ]
  },
  {
   "cell_type": "code",
   "execution_count": null,
   "metadata": {},
   "outputs": [],
   "source": [
    "# give these functions.\n",
    "\n",
    "These functions calculate some of the statistics for you. \n",
    "'get_average_energy"
   ]
  },
  {
   "cell_type": "code",
   "execution_count": null,
   "metadata": {},
   "outputs": [],
   "source": [
    "def get_average_energy(sr):\n",
    "    return np.mean(sr[\"energy_list\"])\n",
    "\n",
    "\n",
    "def get_stderr_energy(sr, sp):\n",
    "    return np.std(sr[\"energy_list\"]) / np.sqrt(sp[\"num_sweeps\"])\n",
    "\n",
    "\n",
    "def get_average_spin(sr):\n",
    "    return np.mean(sr[\"total_spin_list\"])\n",
    "\n",
    "\n",
    "def get_stderr_spin(sr, sp):\n",
    "    return np.std(sr[\"total_spin_list\"]) / np.sqrt(sp[\"num_sweeps\"])"
   ]
  },
  {
   "cell_type": "markdown",
   "metadata": {},
   "source": [
    "However, these expression are serially correlated. For example, the energy for one sweep is not statistically independent from previous or following sweeps. To remove this correlation, one can average over short blocks of data, a process known as reblocking. This removes serial correlation because each block is now statistically independent.\n",
    "\n",
    "The reblocking implementation of mean and standard error function are included in the ising_utils as:\n",
    "\n",
    "`iu.get_reblocked_avg_stderr_spin`\n",
    "\n",
    "`iu.get_reblocked_avg_stderr_energy`\n",
    "\n",
    "You will see these functions being called later in the simulation."
   ]
  },
  {
   "cell_type": "markdown",
   "metadata": {},
   "source": [
    "The next function will run a calculation.\n",
    "The arguments required are `ip` for the Ising model parameters and `sp` for the simulation parameters.\n",
    "\n",
    "This function will return a dictionary, `sr` containing the simulation results.\n",
    "The two statistics to collect per simulation step are the energy of the lattice (sr['energy_list']) and the total sping of the lattice (sr['total_spin_list'])\n",
    "\n",
    "The calculation takes the following steps:\n",
    "1) initialize the lattice state\n",
    "2) A number of equilibration steps are done in which statistics are not collected.\n",
    "3) A number of production steps are done.\n"
   ]
  },
  {
   "cell_type": "code",
   "execution_count": null,
   "metadata": {},
   "outputs": [],
   "source": [
    "def run_calculation(ip, sp):\n",
    "    sr = {\"energy_list\": [], \"total_spin_list\": []}\n",
    "    lattice_state = initialize_lattice_state(ip)\n",
    "    for step in range(sp[\"num_equil_sweeps\"]):\n",
    "        lattice_state = sweep(lattice_state, ip, sp)\n",
    "    for step in range(sp[\"num_sweeps\"]):\n",
    "        lattice_state = sweep(lattice_state, ip, sp)\n",
    "        # calculate total energy\n",
    "        e = calculate_total_energy_per_spin(lattice_state, ip)\n",
    "        sr[\"energy_list\"].append(e)\n",
    "\n",
    "        # calculate total s2\n",
    "        s = calculate_total_spin_per_spin(lattice_state, ip)\n",
    "        sr[\"total_spin_list\"].append(s)\n",
    "    return sr"
   ]
  },
  {
   "cell_type": "markdown",
   "metadata": {},
   "source": [
    "# Applications of the class"
   ]
  },
  {
   "cell_type": "markdown",
   "metadata": {},
   "source": [
    "1) Run an Ising model simulation with the following parameters:\n",
    "\n",
    "Again, we initialize the python class as: `our_model = IsingModel(n, m, J, h)`\n",
    "\n",
    "- finite size effects: studying two different lattice sizes\n",
    "    - what differences do you notice at 10x10 and 30x30\n",
    "- finding the transition temperature\n",
    "    - distributions of spins above and below\n",
    "- Standard deviation changes around phase transitions\n",
    "- with and without magnetic field"
   ]
  },
  {
   "cell_type": "markdown",
   "metadata": {},
   "source": [
    "We will be comparing our simulation to that of the analytical result. The analytical result is defined as:\n",
    "\n"
   ]
  },
  {
   "cell_type": "code",
   "execution_count": null,
   "metadata": {},
   "outputs": [],
   "source": [
    "def analytical(x, J):\n",
    "    analytical_solution = []\n",
    "    for i in x:\n",
    "        if i < 2.269:\n",
    "            analytical_solution.append(\n",
    "                (1 - np.sinh((2 * J) / i) ** (-4)) ** (1.0 / 8.0)\n",
    "            )\n",
    "        else:\n",
    "            analytical_solution.append(0)\n",
    "\n",
    "    return analytical_solution"
   ]
  },
  {
   "cell_type": "markdown",
   "metadata": {},
   "source": [
    "we want to look at a range of $kT$ values. We will look at a set of values to do our simulation, and a finer mesh of points to calculate the analytical solution since that is a quick calculation.\n",
    "\n",
    "The `np.arange` function generates a list of numbers with a certain spacing between the values. The function takes three arguments, The first argument is the number you want to start with, the second argument is the number you want to finsih your list of numbers on, the third argument is the spacing between the numbers"
   ]
  },
  {
   "cell_type": "code",
   "execution_count": null,
   "metadata": {},
   "outputs": [],
   "source": [
    "analytical_kT_list = np.arange(1.2, 3.0, 0.001)\n",
    "simulation_kT_list = np.arange(1.2, 3.0, 0.1)"
   ]
  },
  {
   "cell_type": "code",
   "execution_count": null,
   "metadata": {},
   "outputs": [],
   "source": [
    "start_time = time.time()\n",
    "kT_list = np.arange(1.2, 3.0, 0.1)\n",
    "analytical_kT_list = np.arange(1.2, 3.0, 0.001)\n",
    "avg_s_list = []\n",
    "stderr_s_list = []\n",
    "num_equil = 10\n",
    "num_sample = 150\n",
    "ip = {\"N\": 10, \"M\": 10, \"J\": 1, \"h\": 0.01}\n",
    "s_analytical = analytical(analytical_kT_list, ip[\"J\"])"
   ]
  },
  {
   "cell_type": "code",
   "execution_count": null,
   "metadata": {},
   "outputs": [],
   "source": [
    "for kT in kT_list:\n",
    "    print(\"kT={}\".format(kT))\n",
    "    sp = {\"num_equil_sweeps\": num_equil, \"num_sweeps\": num_sample, \"kT\": kT}\n",
    "\n",
    "    sr = run_calculation(ip, sp)\n",
    "    print(sr)\n",
    "    mean, std_err = iu.get_reblocked_avg_stderr_spin(sr, sp)\n",
    "    print(\"kT={}    mean {}    std_err {}\".format(kT, mean, std_err))\n",
    "\n",
    "    avg_s_list.append(np.abs(mean))\n",
    "    stderr_s_list.append(std_err)\n",
    "    fig, ax = plt.subplots(tight_layout=True)\n",
    "    fig.set_size_inches(8, 5)\n",
    "    n_bins = 25\n",
    "    bins = np.linspace(-1, 1, n_bins)\n",
    "    ax.hist(sr[\"total_spin_list\"], bins=bins)\n",
    "    ax.set_title(\n",
    "        \"kT={:>4.2f} m={:>02d}, n={:>02d}, J={:>4.2f}, h={:>4.2f} samp={}\".format(\n",
    "            sp[\"kT\"], ip[\"M\"], ip[\"N\"], ip[\"J\"], ip[\"h\"], sp[\"num_sweeps\"]\n",
    "        )\n",
    "    )\n",
    "    ax.set_xlim(-1.1, 1.1)\n",
    "    plt.tight_layout()\n",
    "    plt.savefig(\n",
    "        \"metropolis_s_hist_kT_{:4.2f}_n_{:>02d}_m_{:>02d}_J_{:>4.2f}_h_{:>4.2f}_samp_{}.png\".format(\n",
    "            sp[\"kT\"], ip[\"M\"], ip[\"N\"], ip[\"J\"], ip[\"h\"], sp[\"num_sweeps\"]\n",
    "        ),\n",
    "        dpi=300,\n",
    "    )\n",
    "    # plt.show()\n",
    "    s = pd.Series(sr[\"total_spin_list\"])\n",
    "    print(\"avg s autocorr = {}\".format(s.autocorr()))\n",
    "plt.figure(figsize=(8, 5))\n",
    "plt.errorbar(kT_list, avg_s_list, stderr_s_list, label=\"avg S\")\n",
    "plt.plot(analytical_kT_list, s_analytical, label=\"analytical\")\n",
    "plt.title(\n",
    "    \"m={:>02d}, n={:>02d}, J={:>4.2f}, h={:>4.2f} samp={}\".format(\n",
    "        ip[\"M\"], ip[\"N\"], ip[\"J\"], ip[\"h\"], sp[\"num_sweeps\"]\n",
    "    )\n",
    ")\n",
    "\n",
    "plt.legend()\n",
    "plt.tight_layout()\n",
    "plt.savefig(\n",
    "    \"metropolis_avg_s_m_{:>02d}_n_{:>02d}_J_{:>4.2f}_h_{:>4.2f}_samp_{}.png\".format(\n",
    "        ip[\"M\"], ip[\"N\"], ip[\"J\"], ip[\"h\"], sp[\"num_sweeps\"]\n",
    "    ),\n",
    "    dpi=300,\n",
    ")\n",
    "# plt.show()\n",
    "\n",
    "print(\"Runtime (s) = {}\".format(time.time() - start_time))\n",
    "# plt.show()"
   ]
  },
  {
   "cell_type": "markdown",
   "metadata": {},
   "source": [
    "### References:\n",
    "\n",
    "code: \n",
    "    \n",
    "theory: https://arxiv.org/pdf/0803.0217.pdf"
   ]
  },
  {
   "cell_type": "code",
   "execution_count": null,
   "metadata": {},
   "outputs": [],
   "source": []
  }
 ],
 "metadata": {
  "kernelspec": {
   "display_name": "Python 3",
   "language": "python",
   "name": "python3"
  },
  "language_info": {
   "codemirror_mode": {
    "name": "ipython",
    "version": 3
   },
   "file_extension": ".py",
   "mimetype": "text/x-python",
   "name": "python",
   "nbconvert_exporter": "python",
   "pygments_lexer": "ipython3",
   "version": "3.8.2"
  }
 },
 "nbformat": 4,
 "nbformat_minor": 4
}
